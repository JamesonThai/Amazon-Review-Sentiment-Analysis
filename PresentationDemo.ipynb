{
 "cells": [
  {
   "cell_type": "code",
   "execution_count": 1,
   "metadata": {
    "collapsed": true
   },
   "outputs": [],
   "source": [
    "from Doc2VecSentimentAnalysis import *\n",
    "from sklearn.linear_model import LogisticRegression"
   ]
  },
  {
   "cell_type": "code",
   "execution_count": 10,
   "metadata": {},
   "outputs": [],
   "source": [
    "# Import For Naive Bayes\n",
    "import pickle\n",
    "import nltk\n",
    "from nltk.corpus import stopwords\n",
    "from nltk.classify import SklearnClassifier\n",
    "import nltk.classify.util\n",
    "from nltk.classify import NaiveBayesClassifier\n",
    "from nltk.corpus import stopwords\n",
    "with open(\"classifierHalf.pkl\", 'rb') as file:  \n",
    "    classifierPickleHalf = pickle.load(file)\n",
    "with open(\"bagOfWords.pkl\", 'rb') as file:  \n",
    "    bagOfWords = pickle.load(file)\n",
    "    \n",
    "# TV Show review Rotten Tomatoes for Lucifer\n",
    "movie_sentence = \"Season two created a solid baseline for what Lucifer is and what it can be, quality-wise, and it's a pleasure to see that said baseline is alive and well as the third season begins.\"\n",
    "test_sentenceDS = \"what a shame i was really looking forward to a period drama worthy of source material instead i got artsyfartsy rubbish the actors do fine but they seem out of place in this strange conglomeration of stage decorations which only seems to be there for one of two reasons a to show how ohsooriginal the filmmakers are not or b because they didnt want to spend a ton of money on actual realistic scenes of the glorious gorgeous 19th century russia and its high society even though the movie obviously thinks itself ohsooriginal it really isnt how many times have you seen a variation of time stopping as two people are falling in love showing it from a different angle doesnt make it original last but not least anyone care to explain why kremlin which is in moscow is a recurring background for scenes that are supposed to be happening in st petersburg looks like they saved some money on consultants as well so is it epic yes an epic disappointment\"\n",
    "test_sentence_Rating = 2"
   ]
  },
  {
   "cell_type": "code",
   "execution_count": 2,
   "metadata": {
    "collapsed": true
   },
   "outputs": [],
   "source": [
    "TRAINING_TOTAL = 50000\n",
    "TESTING_TOTAL = 25000"
   ]
  },
  {
   "cell_type": "code",
   "execution_count": 3,
   "metadata": {
    "collapsed": true
   },
   "outputs": [],
   "source": [
    "def classify(trainer, text):\n",
    "    avg = 0\n",
    "    for i in range(500):\n",
    "        avg += trainer.classify(text)\n",
    "    return avg/500\n",
    "\n",
    "def connotation(text):\n",
    "    r5 = classify(trainers['5'], (text))[0]\n",
    "    r3 = classify(trainers['3'], (text))[0]\n",
    "    r2 = classify(trainers['2'], (text))[0]\n",
    "    print('5 ratings:', r5)\n",
    "    print('3 ratings:', r3)\n",
    "    print('2 ratings:', r2)\n",
    "    print('  average:', sum([r5, r3, r2])/3)\n",
    "    test_sent_features = {word.lower(): (word in nltk.word_tokenize(testOSentence.lower())) for word in bagOfWords}\n",
    "    print(classifierPickleHalf.classify(test_sent_features))\n",
    "    "
   ]
  },
  {
   "cell_type": "code",
   "execution_count": 17,
   "metadata": {},
   "outputs": [
    {
     "name": "stdout",
     "output_type": "stream",
     "text": [
      "0.88904\n"
     ]
    }
   ],
   "source": [
    "print(trainers['2'].score())"
   ]
  },
  {
   "cell_type": "code",
   "execution_count": 4,
   "metadata": {},
   "outputs": [
    {
     "data": {
      "text/plain": [
       "LogisticRegression(C=0.001, class_weight=None, dual=False, fit_intercept=True,\n",
       "          intercept_scaling=1, max_iter=10, multi_class='ovr', n_jobs=1,\n",
       "          penalty='l2', random_state=None, solver='liblinear', tol=0.0001,\n",
       "          verbose=0, warm_start=False)"
      ]
     },
     "execution_count": 4,
     "metadata": {},
     "output_type": "execute_result"
    }
   ],
   "source": [
    "# Note: reviews have to be loaded from the Google drive and unzipped into the local folder\n",
    "d2v_model = Doc2Vec.load('./epoch20_reviews375k_d2v/amazon_dataset_75000.d2v')\n",
    "\n",
    "mt5r = ModelTrainer(d2v_model, TRAINING_TOTAL, TESTING_TOTAL)\n",
    "mt5r.generate_sets([1,2,3,4,5])\n",
    "mt5r.train(LogisticRegression(C=0.001, max_iter=10))\n",
    "\n",
    "mt3r = ModelTrainer(d2v_model, TRAINING_TOTAL, TESTING_TOTAL)\n",
    "mt3r.generate_sets([1,3,5])\n",
    "mt3r.train(LogisticRegression(C=0.001, max_iter=10))\n",
    "\n",
    "mt2r = ModelTrainer(d2v_model, TRAINING_TOTAL, TESTING_TOTAL)\n",
    "mt2r.generate_sets([1,5])\n",
    "mt2r.train(LogisticRegression(C=0.001, max_iter=10))"
   ]
  },
  {
   "cell_type": "code",
   "execution_count": 5,
   "metadata": {
    "collapsed": true
   },
   "outputs": [],
   "source": [
    "trainers = {\n",
    "    '5' : mt5r,\n",
    "    '3' : mt3r,\n",
    "    '2' : mt2r\n",
    "}"
   ]
  },
  {
   "cell_type": "code",
   "execution_count": 11,
   "metadata": {
    "collapsed": true
   },
   "outputs": [],
   "source": [
    "def whatRating(testOSentence):\n",
    "    test_sent_features = {word.lower(): (word in nltk.word_tokenize(testOSentence.lower())) for word in bagOfWords}\n",
    "    print(classifierPickleHalf.classify(test_sent_features))"
   ]
  },
  {
   "cell_type": "code",
   "execution_count": 25,
   "metadata": {},
   "outputs": [
    {
     "name": "stdout",
     "output_type": "stream",
     "text": [
      "5 ratings: 4.754\n",
      "3 ratings: 4.464\n",
      "2 ratings: 4.08\n",
      "  average: 4.43266666667\n"
     ]
    }
   ],
   "source": [
    "text = '''\n",
    "\n",
    "Sample review here.\n",
    "\n",
    "'''\n",
    "\n",
    "connotation(text)"
   ]
  },
  {
   "cell_type": "code",
   "execution_count": 12,
   "metadata": {},
   "outputs": [
    {
     "name": "stdout",
     "output_type": "stream",
     "text": [
      "5\n"
     ]
    }
   ],
   "source": [
    "print(whatRating(movie_sentence), whatRating(test_sentenceDS))"
   ]
  },
  {
   "cell_type": "code",
   "execution_count": null,
   "metadata": {
    "collapsed": true
   },
   "outputs": [],
   "source": []
  }
 ],
 "metadata": {
  "kernelspec": {
   "display_name": "Python 3",
   "language": "python",
   "name": "python3"
  },
  "language_info": {
   "codemirror_mode": {
    "name": "ipython",
    "version": 3
   },
   "file_extension": ".py",
   "mimetype": "text/x-python",
   "name": "python",
   "nbconvert_exporter": "python",
   "pygments_lexer": "ipython3",
   "version": "3.6.3"
  }
 },
 "nbformat": 4,
 "nbformat_minor": 2
}
